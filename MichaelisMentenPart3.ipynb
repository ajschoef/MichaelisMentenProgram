{
 "cells": [
  {
   "cell_type": "markdown",
   "id": "5166930d-b4a8-4577-bd48-80f06860447e",
   "metadata": {},
   "source": [
    "## Conceptualizing your Fitting Code"
   ]
  },
  {
   "cell_type": "markdown",
   "id": "6d75043c-3d3e-4052-9627-5c3e0e589b9d",
   "metadata": {},
   "source": [
    "If you want to analyze your own enzyme activity data, you'll need to fit your data to determine the $K_M$ and $V_{max}$. One way to do this is to useed the linearized version of the Michaelis-Menten equation, also called a double-reciprocal plot or a Lineweaver-Burk plot. Instead of plotting velocity vs. [substrate], you plot $\\frac{{1}}{velocity}$ vs. $\\frac{{1}}{[substrate]}$. You can fit this data to the Lineweaver-Burke equation:\n"
   ]
  },
  {
   "cell_type": "markdown",
   "id": "f88d63a3-829a-4285-99f5-cb23356fa629",
   "metadata": {},
   "source": [
    "$$\\dfrac{{1}}{V_o} = \\dfrac{{K_M}}{V_{max}} \\dfrac{{1}}{[S]} + \\dfrac{{1}}{V_{max}}$$"
   ]
  },
  {
   "cell_type": "markdown",
   "id": "8416a451-26fa-44e9-aff4-5a23470cbad1",
   "metadata": {},
   "source": [
    "Have a look at this equation. If you plot $\\frac{{1}}{V_o}$ on the y-axis and $\\frac{{1}}{[S]}$ on the x-axis, then the slope will be $\\frac{{K_M}}{V_{max}}$ and the y-intercept will be $\\frac{{1}}{V_{max}}$. "
   ]
  },
  {
   "cell_type": "markdown",
   "id": "6c1d6829-07c3-47de-b677-3bd8ba83ce89",
   "metadata": {},
   "source": [
    "Why do this? The reason for this mathematical manipulation is that when the Michaelis-Menten model was developed, nonlinear fitting wasn't around. Graph paper was, so performing a linear fit to determine the $K_M$ and $V_{max}$ required only a ruler. Now that we have powerful computers in our back pockets, we can easily fit our data directly. "
   ]
  },
  {
   "cell_type": "markdown",
   "id": "9352decf-dc8b-4a4c-af16-cbb502b97d25",
   "metadata": {},
   "source": [
    "Our next task will be to design such a non-linear fitting program. But first, let's develop a model for what a non-linear fitting program does. "
   ]
  },
  {
   "cell_type": "markdown",
   "id": "22f15be8-2cdc-4a67-8837-ff2842e04702",
   "metadata": {},
   "source": [
    "## A Mental Model for Data Fitting"
   ]
  },
  {
   "cell_type": "markdown",
   "id": "7efcf7cf-787a-40ed-ad98-7f471c826aa0",
   "metadata": {},
   "source": [
    "You've probably already performed data fitting. You might have typed data into an Excel workbook, plotted it, and added a linear trendline. That linear trendline would have been defined by a slope and y-intercept. The numbers you typed into the cells are your data, and the slope and y-intercept are the fittable parameters: "
   ]
  },
  {
   "cell_type": "markdown",
   "id": "48bd03fb-da0e-4af1-8639-41935ce7951e",
   "metadata": {},
   "source": [
    "$$x\\ data, y\\ data \\rightarrow LINEAR\\ FIT \\rightarrow slope, y\\ intercept$$\n"
   ]
  },
  {
   "cell_type": "markdown",
   "id": "4dc15a24-ac8f-4327-b511-6fae581ff001",
   "metadata": {},
   "source": [
    "Take a moment to write down a diagram like the one above for a Michaelis-Menten fit. Then, open a new Jupyter notebook and use the provided handout to code your own nonlinear fitting program for the Michaelis-Menten equation. "
   ]
  },
  {
   "cell_type": "code",
   "execution_count": null,
   "id": "fd518363-d655-4b89-9652-15106cd3c680",
   "metadata": {},
   "outputs": [],
   "source": []
  }
 ],
 "metadata": {
  "kernelspec": {
   "display_name": "Python 3 (ipykernel)",
   "language": "python",
   "name": "python3"
  },
  "language_info": {
   "codemirror_mode": {
    "name": "ipython",
    "version": 3
   },
   "file_extension": ".py",
   "mimetype": "text/x-python",
   "name": "python",
   "nbconvert_exporter": "python",
   "pygments_lexer": "ipython3",
   "version": "3.8.8"
  }
 },
 "nbformat": 4,
 "nbformat_minor": 5
}
