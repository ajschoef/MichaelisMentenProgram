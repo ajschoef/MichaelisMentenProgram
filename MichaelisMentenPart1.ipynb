{
 "cells": [
  {
   "cell_type": "markdown",
   "id": "8c0ea163-086b-464a-bc2b-422af78b4206",
   "metadata": {},
   "source": [
    "# Biochemistry Lab Activity\n",
    "## Michaelis-Menten Kinetics: Coding a Nonlinear Fitting Program"
   ]
  },
  {
   "cell_type": "markdown",
   "id": "836d7b03-0f46-4aca-a125-7350f1e6193b",
   "metadata": {},
   "source": [
    "### Background\n",
    "Enzymes catalyze many medically important reactions in biology. We are often interested in knowing which enzymes catalyze which reactions, because this can help us map metabolic pathways and understand what happens when they are perturbed by genetic mutations, malignant transformation, or toxins. \n",
    "\n",
    "Knowing which enzymes do what is only part of enzymology. It's also useful to know how good they are at their jobs. How fast do they work, and how specific are they? Can they work on only one substrate, or lots of different substrates? Can they be stopped or inhibited? Quantitative enzymology is the study of these questions. In this field, we use mathematical models to describe enzyme speed and efficiency. In order to undestand these models, we must start with a general form of and enzymatic reaction. \n",
    "\n",
    "\n"
   ]
  },
  {
   "cell_type": "markdown",
   "id": "aee2dde2-2866-4575-8524-5aaff969462d",
   "metadata": {},
   "source": [
    "$$ E + S \\rightleftharpoons ES \\rightarrow E + P$$"
   ]
  },
  {
   "cell_type": "markdown",
   "id": "bfa14428-4cbc-4b79-881b-3ea468353aa5",
   "metadata": {},
   "source": [
    "Many enzymes follow the general reaction above. First, they bind to a substrate ($S$) and form an enzyme-substrate complex ($ES$). This step is usually considered revserible. Then, catalysis occurrs, converting the substrate ($S$) to product ($P$). The enzyme releases the product, and then it is a free enzyme again ($E$), ready to accept another substrate. The rate constants that describe each step are as follows:\n",
    "\n",
    "$k_1$ is the rate constant for the enzyme-substrate association step.\n",
    "$k_{-1}$ is the rate constant for the enzyme-substrate dissociation step.\n",
    "$k_2$, usually called $k_{cat}$, is the rate constant for the product formation step. (In this case, \"$cat$\" stands for \"catalysis.)\n",
    "\n",
    "We can define an enzyme's velocity as how fast it performs catalysis. Another way to say this would be that enzyme speed is equal to the change in product concetration per unit time. This is a chemical rate, and we can use the rules of chemical rate laws to write a rate equation for product formation:\n"
   ]
  },
  {
   "cell_type": "markdown",
   "id": "db383fbd-f6f6-4172-9adc-a2a09d6d6ec9",
   "metadata": {},
   "source": [
    "$$ \\frac{{d[P]}}{dt} = k_{cat}[ES]$$"
   ]
  },
  {
   "cell_type": "markdown",
   "id": "694a356f-e114-43be-80c6-a86a05b5d1d3",
   "metadata": {},
   "source": [
    "In this equation, $\\frac{{d[P]}}{dt}$ is the same thing as velocity ($V$).\n",
    "\n",
    "By using the rules of rate laws and some algebraic manipulation, we can arrive at the Michaleis-Menten equation, which makes several assumptions along the way, and collapses some of the rate constants into a composite term called the Michaelis constant. \n",
    "\n",
    "The Michaelis-Menten equation:"
   ]
  },
  {
   "cell_type": "markdown",
   "id": "616d6b58-8276-408a-8879-331d4b543ef5",
   "metadata": {},
   "source": [
    "$$ V_o = \\frac{{V_{max} [S]}}{K_M + [S]}  $$"
   ]
  },
  {
   "cell_type": "markdown",
   "id": "d294f52f-1bb4-4961-a239-157cf8b0debc",
   "metadata": {},
   "source": [
    "In this equation,\n",
    "\n",
    "$$ V_o = initial\\ velocity $$\n",
    "$$ V_{max} = maximum\\ velocity $$\n",
    "$$[S] = substrate\\ concentration $$\n",
    "$$K_M = Michaelis\\ constant $$\n"
   ]
  },
  {
   "cell_type": "markdown",
   "id": "3b6562cf-ffe3-433f-87e4-441a94d9d633",
   "metadata": {},
   "source": [
    "The $V_{max}$ and $K_M$ terms are \"shorthand\" variables for more complex terms. Their full definitions follow:"
   ]
  },
  {
   "cell_type": "markdown",
   "id": "24aa99c5-16c1-444a-adeb-41d3895b57e8",
   "metadata": {},
   "source": [
    "$$V_{max} = k_{cat}[E]_t$$\n",
    "\n",
    "\n",
    "$$K_M = \\frac{{(k_{-1} + k_2)}}{k_1}$$"
   ]
  },
  {
   "cell_type": "markdown",
   "id": "ae6bb2dd-2f6f-4405-a31c-a8efeade26c2",
   "metadata": {},
   "source": [
    "These definitions imply a couple of important things about the Michaelis-Menten equation, but one of the most important is that the $V_{max}$ is a theoretical limit. It's the speed the enzyme would reach if every single enzyme in solution was bound to substtrate, that is, if\n",
    "\n",
    "$$ [ES] = [E]_{total} $$"
   ]
  },
  {
   "cell_type": "markdown",
   "id": "1102fa0e-1cd2-4c7b-8e0a-c646c2c3bb84",
   "metadata": {
    "tags": []
   },
   "source": [
    "Another interesting thing about the Michaelis-Menten model is that $K_M$, mathematically speaking, ends up being equal to the concentration of substrate at which the enzyme is at $\\frac{{1}}{2} V_{max}$. Under certain conditions--when $k_2$ is negligible compared to $k_{-1}$--$K_M$ approxmates $K_D$, which is a measure of affinity. $K_M$ is thus often considered a measure of the strength of an enzyme's affinity for substrate (the strength of substrate binding). The smaller the value, the less substrate is required to drive the reaction, and therefore the stronger the affinity. \n",
    "\n",
    "Enzymologists often consider $K_{M}$ and $k_{cat}$ together as a measure of enzyme efficiency. Becasue a large $k_{cat}$ means the enzyme is fast, and a small $K_{M}$ means the enzyme is good at binding substrate, the ratio of $k_{cat}$ to $K_{M}$ is a general measure of enzyme awesomeness, the specificity constant:\n",
    "\n",
    "$$specificity\\ constant = \\frac{{k_{cat}}}{K_M}$$\n",
    "\n",
    "\n",
    "Biochemists sometimes try to determine specificty constants for an enzyme on multiple substrates to try and understand which substrate is best.\n",
    "\n",
    "For more information and a full explanation of the derivation, see: https://bio.libretexts.org/Courses/Wheaton_College_Massachusetts/Principles_of_Biochemistry/07%3A_Enzymes_catalysis_and_kinetics/7.02%3A_Derivation_of_Michaelis-Menten_equation\n",
    "\n",
    "\n"
   ]
  },
  {
   "cell_type": "code",
   "execution_count": null,
   "id": "6b4f77b0-1bd2-4624-8b1c-88bd2d319819",
   "metadata": {},
   "outputs": [],
   "source": []
  }
 ],
 "metadata": {
  "kernelspec": {
   "display_name": "Python 3 (ipykernel)",
   "language": "python",
   "name": "python3"
  },
  "language_info": {
   "codemirror_mode": {
    "name": "ipython",
    "version": 3
   },
   "file_extension": ".py",
   "mimetype": "text/x-python",
   "name": "python",
   "nbconvert_exporter": "python",
   "pygments_lexer": "ipython3",
   "version": "3.8.8"
  }
 },
 "nbformat": 4,
 "nbformat_minor": 5
}
