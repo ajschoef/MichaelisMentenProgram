{
 "cells": [
  {
   "cell_type": "markdown",
   "id": "b0fc0d47-7c80-4a40-a16d-b1ec777ad711",
   "metadata": {},
   "source": [
    "## Interactive Plots\n",
    "The simulations below will help you understand the Michaelis-Menten model and the parameters that define it. Don't mess with the code itself! Click in the code block and then click the triangular \"run\" button on the top menu. Scroll down to the simulation, and you'll be able to adjust the parameters. \n",
    "\n",
    "The graph below shows a plot of the Michaelis-Menten function, and you can adjust $K_M$ and $V_{max}$ to see what happens to the shape of the curve. "
   ]
  },
  {
   "cell_type": "code",
   "execution_count": 1,
   "id": "c5557339-135e-44f5-8370-be32789d3d90",
   "metadata": {},
   "outputs": [
    {
     "data": {
      "application/vnd.jupyter.widget-view+json": {
       "model_id": "3f1b78b21bb545cdb6924b640d640c0d",
       "version_major": 2,
       "version_minor": 0
      },
      "text/plain": [
       "VBox(children=(FloatText(value=2.0, description='$K_{M}:$'), FloatText(value=10.0, description='$V_{max}:$'), …"
      ]
     },
     "execution_count": 1,
     "metadata": {},
     "output_type": "execute_result"
    }
   ],
   "source": [
    "import matplotlib.pyplot as plt\n",
    "import matplotlib\n",
    "import numpy as np\n",
    "import ipywidgets as widgets\n",
    "\n",
    "out = widgets.Output()\n",
    "\n",
    "Et = 0.1\n",
    "KM = widgets.FloatText(value = 2, continuous_update=False, description = '$K_{M}:$')\n",
    "Vmax = widgets.FloatText(value = 10, continuous_update=False, description = '$V_{max}:$')\n",
    "\n",
    "plotbutton = widgets.Button(description = \"Update Plot\")\n",
    "\n",
    "subs = np.linspace(0.001, 25, 1000)\n",
    "\n",
    "@out.capture(clear_output = True, wait = True)\n",
    "def mmplot(Vmax, KM, Et, subs):\n",
    "    vels = Vmax*subs/(subs+KM)\n",
    "    fig, ax = plt.subplots()\n",
    "    plt.title (\"Enzyme Activity\")\n",
    "    plt.xlabel (\"[substrate] (mM)\")\n",
    "    plt.ylabel (r'$V_o\\ (\\ \\frac{nmol\\ product}{s})$')\n",
    "    ax.set_ylim(0,10)\n",
    "    plt.plot(subs,vels)\n",
    "    plt.show()\n",
    "    \n",
    "KM.observe(lambda value: mmplot(Vmax.value, KM.value, Et, subs))\n",
    "Vmax.observe(lambda value: mmplot(Vmax.value, KM.value, Et, subs))\n",
    "\n",
    "mmplot(Vmax.value, KM.value, Et, subs)\n",
    "vbox = widgets.VBox([KM, Vmax, plotbutton, out])\n",
    "vbox"
   ]
  },
  {
   "cell_type": "markdown",
   "id": "fe6d00e2-9b0f-4a3d-a4d5-ced49a194545",
   "metadata": {},
   "source": [
    "It's important to understand the $V_{max}$ is not a constant--it is dependent on enzyme concentration. $V_{max}$ is related to a constant, though, $k_{cat}$. Recall the following equation:\n",
    "$$V_{max} = k_{cat}[E]_t$$"
   ]
  },
  {
   "cell_type": "markdown",
   "id": "706ded87-bcf3-48c3-bee7-690fe15fc68d",
   "metadata": {},
   "source": [
    "The simulation below gives you the ability to change $E_t$ and observe the effect on the plot. In this simulation, $k_{cat}$ and $K_M$ are held constant."
   ]
  },
  {
   "cell_type": "code",
   "execution_count": 2,
   "id": "4bcc9eba-5f4a-4418-bda6-4e7a42be243d",
   "metadata": {},
   "outputs": [
    {
     "data": {
      "application/vnd.jupyter.widget-view+json": {
       "model_id": "c2c78e21853e42319decc6110f85ae1b",
       "version_major": 2,
       "version_minor": 0
      },
      "text/plain": [
       "VBox(children=(FloatText(value=10.0, description='$E_{t}:$'), Button(description='Update Plot', style=ButtonSt…"
      ]
     },
     "execution_count": 2,
     "metadata": {},
     "output_type": "execute_result"
    }
   ],
   "source": [
    "import matplotlib.pyplot as plt\n",
    "import matplotlib\n",
    "import numpy as np\n",
    "import ipywidgets as widgets\n",
    "\n",
    "out = widgets.Output()\n",
    "\n",
    "kcat = 0.01\n",
    "Et = widgets.FloatText(value = 10, continuous_update=False, description = '$E_{t}:$')\n",
    "KM = 5.0\n",
    "Vmax = Et.value*kcat\n",
    "\n",
    "plotbutton = widgets.Button(description = \"Update Plot\")\n",
    "\n",
    "subs = np.linspace(0.001, 25, 1000)\n",
    "\n",
    "@out.capture(clear_output = True, wait = True)\n",
    "def mmplot(kcat, KM, Et, subs):\n",
    "    vels = kcat*Et*subs/(subs+KM)\n",
    "    fig, ax = plt.subplots()\n",
    "    plt.title (\"Enzyme Activity\")\n",
    "    plt.xlabel (\"[substrate] (mM)\")\n",
    "    plt.ylabel (r'$V_o\\ (\\ \\frac{nmol\\ product}{s})$')\n",
    "    ax.set_ylim(0,0.25)\n",
    "    plt.plot(subs,vels)\n",
    "    plt.show()\n",
    "    \n",
    "Et.observe(lambda value: mmplot(kcat, KM, Et.value, subs))\n",
    "\n",
    "mmplot(kcat, KM, Et.value, subs)\n",
    "vbox = widgets.VBox([Et, plotbutton, out])\n",
    "vbox\n",
    "#print(\"The $V_{max}$ is %f.2\" % Vmax)"
   ]
  },
  {
   "cell_type": "markdown",
   "id": "41cf6d47-0181-4a3d-b1fb-c5d45979dd4e",
   "metadata": {},
   "source": [
    "### Check-in questions:\n",
    "Be sure you can answer these before you move on--they will help prepare you for your post-lab quiz!\n",
    "1) What happens when you double the total enzyme concentration?\n",
    "2) Can you look at one of the curves and estimate $K_{M}$ and $V_{max}$?\n"
   ]
  },
  {
   "cell_type": "code",
   "execution_count": null,
   "id": "6a425822-fdc8-49ef-afc8-c36edef5b406",
   "metadata": {},
   "outputs": [],
   "source": []
  }
 ],
 "metadata": {
  "kernelspec": {
   "display_name": "Python 3 (ipykernel)",
   "language": "python",
   "name": "python3"
  },
  "language_info": {
   "codemirror_mode": {
    "name": "ipython",
    "version": 3
   },
   "file_extension": ".py",
   "mimetype": "text/x-python",
   "name": "python",
   "nbconvert_exporter": "python",
   "pygments_lexer": "ipython3",
   "version": "3.8.8"
  }
 },
 "nbformat": 4,
 "nbformat_minor": 5
}
